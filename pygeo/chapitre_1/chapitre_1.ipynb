{
 "cells": [
  {
   "cell_type": "code",
   "execution_count": null,
   "metadata": {},
   "outputs": [],
   "source": [
    "#import turtle library\n",
    "import turtle as t"
   ]
  },
  {
   "cell_type": "code",
   "execution_count": 3,
   "metadata": {},
   "outputs": [],
   "source": [
    "#In computer science, assigning commonly used numbers to an easy-to-remember variable is a common practice\n",
    "NAME = 0\n",
    "POINTS = 1\n",
    "POP = 2"
   ]
  },
  {
   "cell_type": "code",
   "execution_count": 4,
   "metadata": {},
   "outputs": [
    {
     "data": {
      "text/plain": [
       "[['DENVER', [-104.98, 39.74], 634265],\n",
       " ['BOULDER', [-105.27, 40.02], 98889],\n",
       " ['DURANGO', [-107.88, 37.28], 17069]]"
      ]
     },
     "execution_count": 4,
     "metadata": {},
     "output_type": "execute_result"
    }
   ],
   "source": [
    "#set up the data for Colorado as a list with a name, polygon points, and population.\n",
    "state = [\"COLORADO\", [[-109, 37],[-109, 41],[-102, 41],[-102, 37]],\n",
    "5187582]\n",
    "\n",
    "#The cities will be stored as nested lists. Each city's location consists of a single point as a longitude and latitude pair.\n",
    "cities = []\n",
    "cities.append([\"DENVER\",[-104.98, 39.74], 634265])\n",
    "cities.append([\"BOULDER\",[-105.27, 40.02], 98889])\n",
    "cities.append([\"DURANGO\",[-107.88,37.28], 17069])\n",
    "cities"
   ]
  },
  {
   "cell_type": "code",
   "execution_count": 5,
   "metadata": {},
   "outputs": [],
   "source": [
    "#defining a map size\n",
    "map_width = 400\n",
    "map_height = 300"
   ]
  },
  {
   "cell_type": "code",
   "execution_count": 6,
   "metadata": {},
   "outputs": [],
   "source": [
    "#determine the bounding box of the largest layer, which is the state\n",
    "minx = 180\n",
    "maxx = -180\n",
    "miny = 90\n",
    "maxy = -90\n",
    "for x,y in state[POINTS]:\n",
    "    if x < minx:\n",
    "        minx = x\n",
    "    elif x > maxx:\n",
    "        maxx = x\n",
    "    if y < miny:\n",
    "        miny = y\n",
    "    elif y > maxy:\n",
    "        maxy = y"
   ]
  },
  {
   "cell_type": "code",
   "execution_count": 7,
   "metadata": {},
   "outputs": [],
   "source": [
    "'''The second step when it comes to scaling is calculating a ratio between the actual\n",
    "state and the tiny canvas that we will render it on. This ratio is used for\n",
    "coordinate to pixel conversion. We get the size along the x and y axes of the state\n",
    "and then we divide the map width and height by these numbers to get our\n",
    "scaling ratio'''\n",
    "dist_x = maxx - minx\n",
    "dist_y = maxy - miny\n",
    "x_ratio = map_width / dist_x\n",
    "y_ratio = map_height / dist_y"
   ]
  },
  {
   "cell_type": "code",
   "execution_count": 8,
   "metadata": {},
   "outputs": [],
   "source": [
    "'''The following function, called convert(), is our only function in SimpleGIS. It\n",
    "transforms a point in the map coordinates from one of our data layers into pixel\n",
    "coordinates using the previous calculations. You'll notice that, in the end, we\n",
    "divide the map width and height in half and subtract it from the final conversion\n",
    "to account for the unusual center origin of the turtle graphics canvas. Every\n",
    "geospatial program has some form of this function:'''\n",
    "def convert(point):\n",
    "    lon = point[0]\n",
    "    lat = point[1]\n",
    "    x = map_width - ((maxx - lon) * x_ratio)\n",
    "    y = map_height - ((maxy - lat) * y_ratio)\n",
    "    # Python turtle graphics start in the\n",
    "    # middle of the screen\n",
    "    # so we must offset the points so they are centered\n",
    "    x = x - (map_width/2)\n",
    "    y = y - (map_height/2)\n",
    "    return [x,y]"
   ]
  },
  {
   "cell_type": "code",
   "execution_count": 9,
   "metadata": {},
   "outputs": [],
   "source": [
    "t.up()\n",
    "first_pixel = None\n",
    "for point in state[POINTS]:\n",
    "    pixel = convert(point)\n",
    "    if not first_pixel:\n",
    "        first_pixel = pixel\n",
    "        t.goto(pixel)\n",
    "        t.down()\n",
    "t.goto(first_pixel)\n",
    "t.up()\n",
    "t.goto([0,0])\n",
    "t.write(state[NAME], align=\"center\", font=(\"Arial\",16,\"bold\"))"
   ]
  },
  {
   "cell_type": "code",
   "execution_count": 10,
   "metadata": {},
   "outputs": [],
   "source": [
    "for city in cities:\n",
    "    pixel = convert(city[POINTS])\n",
    "    t.up()\n",
    "    t.goto(pixel)\n",
    "    # Place a point for the city\n",
    "    t.dot(10)\n",
    "    # Label the city\n",
    "    t.write(city[NAME] + \", Pop.: \" + str(city[POP]), align=\"left\")\n",
    "    t.up()"
   ]
  },
  {
   "cell_type": "code",
   "execution_count": 11,
   "metadata": {},
   "outputs": [],
   "source": [
    "biggest_city = max(cities, key=lambda city:city[POP])\n",
    "t.goto(0,-200)\n",
    "t.write(\"The biggest city is: \" + biggest_city[NAME])"
   ]
  },
  {
   "cell_type": "code",
   "execution_count": 15,
   "metadata": {},
   "outputs": [],
   "source": [
    "western_city = min(cities, key=lambda city:city[POINTS])\n",
    "t.goto(0,-220)\n",
    "t.write(\"The western-most city is: \" + western_city[NAME])\n",
    "\n",
    "t.goto(convert([minx,miny]))\n",
    "t.down()\n",
    "t.goto(convert([minx,maxy]))\n",
    "t.goto(convert([maxx,maxy]))\n",
    "t.goto(convert([maxx,miny]))\n",
    "t.goto(convert([minx,miny]))\n",
    "t.up()\n",
    "t.pen(shown=False)"
   ]
  }
 ],
 "metadata": {
  "interpreter": {
   "hash": "fe29f9858e575bf7db34e30dfc26855626e1c28f74aa9bb29767a063b86e9980"
  },
  "kernelspec": {
   "display_name": "Python 3 (ipykernel)",
   "language": "python",
   "name": "python3"
  },
  "language_info": {
   "codemirror_mode": {
    "name": "ipython",
    "version": 3
   },
   "file_extension": ".py",
   "mimetype": "text/x-python",
   "name": "python",
   "nbconvert_exporter": "python",
   "pygments_lexer": "ipython3",
   "version": "3.10.4"
  }
 },
 "nbformat": 4,
 "nbformat_minor": 4
}
