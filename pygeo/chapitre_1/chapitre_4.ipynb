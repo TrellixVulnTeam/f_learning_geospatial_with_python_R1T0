{
 "cells": [
  {
   "cell_type": "code",
   "execution_count": 1,
   "id": "651d89b9-0f30-499f-95b8-f579b483c3cd",
   "metadata": {},
   "outputs": [],
   "source": [
    "import urllib.request\n",
    "import urllib.parse\n",
    "import urllib.error"
   ]
  },
  {
   "cell_type": "code",
   "execution_count": 10,
   "id": "26d2d30d-c375-4ce4-8054-004108e1e1ae",
   "metadata": {},
   "outputs": [],
   "source": [
    "url = \"http://earthquake.usgs.gov/earthquakes/feed/v1.0/summary/all_hour.csv\"\n",
    "earthquakes = urllib.request.urlopen(url)"
   ]
  },
  {
   "cell_type": "code",
   "execution_count": 12,
   "id": "5f033c9f-036f-4bb4-bf0d-30cf08684908",
   "metadata": {},
   "outputs": [
    {
     "name": "stdout",
     "output_type": "stream",
     "text": [
      "b'2022-05-23T14:54:37.970Z,38.7849998,-122.7796631,1.89,0.56,md,19,87,0.01041,0.03,nc,nc73737121,2022-05-23T15:03:10.864Z,\"2km WNW of The Geysers, CA\",earthquake,0.25,0.44,0.36,4,automatic,nc,nc\\n'\n",
      "b'2022-05-23T14:51:55.730Z,35.7113333,-117.5391667,6.5,1.56,ml,20,104,0.1145,0.15,ci,ci40024655,2022-05-23T14:55:35.659Z,\"14km WSW of Searles Valley, CA\",earthquake,0.34,1.09,0.194,26,automatic,ci,ci\\n'\n",
      "b'2022-05-23T14:42:43.130Z,38.7718315,-122.7099991,1.47,0.39,md,7,186,0.01548,0.02,nc,nc73737116,2022-05-23T14:52:10.804Z,\"2km WSW of Anderson Springs, CA\",earthquake,0.46,0.65,,1,automatic,nc,nc\\n'\n",
      "b'2022-05-23T14:34:29.160Z,35.9269981,-120.4676666,5.04,0.79,md,12,105,0.01993,0.05,nc,nc73737111,2022-05-23T14:47:10.774Z,\"4km NW of Parkfield, CA\",earthquake,0.51,1.13,0.19,5,automatic,nc,nc\\n'\n",
      "b'2022-05-23T14:33:24.440Z,19.4651660919189,-155.595001220703,-1.03999996185303,1.82000005,md,10,83,,0.159999996,hv,hv73020902,2022-05-23T14:36:26.470Z,\"28 km E of Honaunau-Napoopoo, Hawaii\",earthquake,0.48,0.310000002,1.55999994,6,automatic,hv,hv\\n'\n",
      "b'2022-05-23T14:23:18.574Z,-5.0919,151.2636,124.26,5.1,mww,,54,1.267,0.52,us,us6000hnai,2022-05-23T15:02:42.040Z,\"134 km ENE of Kimbe, Papua New Guinea\",earthquake,5,5.9,0.089,12,reviewed,us,us\\n'\n",
      "b'2022-05-23T14:21:40.790Z,38.8423347,-122.873497,1.42,0.88,md,11,111,0.008793,0.03,nc,nc73737106,2022-05-23T15:04:12.873Z,\"12km NW of The Geysers, CA\",earthquake,0.6,0.87,,1,automatic,nc,nc\\n'\n",
      "b'2022-05-23T14:18:14.220Z,61.1698,-150.7834,57.7,1.6,ml,,,,0.25,ak,ak0226kqal2m,2022-05-23T14:48:41.692Z,\"16 km E of Beluga, Alaska\",earthquake,,0.7,,,automatic,ak,ak\\n'\n",
      "b'2022-05-23T14:17:23.770Z,38.7895012,-122.762001,1.75,0.45,md,13,64,0.01125,0.02,nc,nc73737101,2022-05-23T14:51:14.799Z,\"1km NNW of The Geysers, CA\",earthquake,0.29,0.55,0.4,2,automatic,nc,nc\\n'\n",
      "b'2022-05-23T14:13:49.700Z,38.8030014,-122.8071671,1.11,0.84,md,11,80,0.01051,0.02,nc,nc73737096,2022-05-23T14:41:15.744Z,\"5km WNW of The Geysers, CA\",earthquake,0.26,0.61,,1,automatic,nc,nc\\n'\n"
     ]
    }
   ],
   "source": [
    "for records in earthquakes : print(records)"
   ]
  },
  {
   "cell_type": "code",
   "execution_count": null,
   "id": "beb4a90a-4d44-43f7-83d1-7c5372051484",
   "metadata": {},
   "outputs": [],
   "source": []
  }
 ],
 "metadata": {
  "kernelspec": {
   "display_name": "Python 3 (ipykernel)",
   "language": "python",
   "name": "python3"
  },
  "language_info": {
   "codemirror_mode": {
    "name": "ipython",
    "version": 3
   },
   "file_extension": ".py",
   "mimetype": "text/x-python",
   "name": "python",
   "nbconvert_exporter": "python",
   "pygments_lexer": "ipython3",
   "version": "3.10.4"
  }
 },
 "nbformat": 4,
 "nbformat_minor": 5
}
